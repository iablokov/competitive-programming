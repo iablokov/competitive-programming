{
 "cells": [
  {
   "cell_type": "markdown",
   "metadata": {},
   "source": [
    "# Python for LeetCode: Graphs."
   ]
  },
  {
   "cell_type": "code",
   "execution_count": 14,
   "metadata": {},
   "outputs": [],
   "source": [
    "from collections import defaultdict"
   ]
  },
  {
   "cell_type": "markdown",
   "metadata": {},
   "source": [
    "## Graph loading and transformation"
   ]
  },
  {
   "cell_type": "markdown",
   "metadata": {},
   "source": [
    "### Build the *adjacency map* from the *edge list* for an *undirected graph*\n",
    "- ###### 1971. Find if Path Exists in Graph https://leetcode.com/problems/find-if-path-exists-in-graph/"
   ]
  },
  {
   "cell_type": "code",
   "execution_count": 15,
   "metadata": {},
   "outputs": [],
   "source": [
    "def adjacency_map_from_edge_list_undirected(edges: list[list[int]]) -> defaultdict[set]:\n",
    "    \"\"\"\n",
    "        This function builds the undirected graph's adjacency map from\n",
    "        the list of its edges (i.e., pairs of adjacent vertices).\n",
    "    \"\"\"\n",
    "    G = defaultdict(set)          # automatic initialization of adjacent vertex set\n",
    "    for U,V in edges:             # unpacking of inner list into a pair of vertices\n",
    "        G[U].add(V), G[V].add(U)  # storing undirected edge data (i.e., an edge between u and v)\n",
    "    return G"
   ]
  },
  {
   "cell_type": "code",
   "execution_count": 28,
   "metadata": {},
   "outputs": [
    {
     "name": "stdout",
     "output_type": "stream",
     "text": [
      "Edge list     : [[0, 1], [0, 2], [3, 5], [5, 4], [4, 3]]\n",
      "Adjacency map : 0 -> {1, 2}   1 -> {0}   2 -> {0}   3 -> {4, 5}   5 -> {3, 4}   4 -> {3, 5}  "
     ]
    }
   ],
   "source": [
    "edges_undirected   = [[0,1],[0,2],[3,5],[5,4],[4,3]]\n",
    "adj_map_undirected = adjacency_map_from_edge_list_undirected(edges_undirected)\n",
    "\n",
    "print(f\"Edge list     : {edges_undirected}\")\n",
    "print(f\"Adjacency map :\", end=\"\")\n",
    "for vx, vs in adj_map_undirected.items() : print(f\" {vx} -> {vs}\", end=\"  \")"
   ]
  },
  {
   "cell_type": "markdown",
   "metadata": {},
   "source": [
    "### Build the *adjacency map* from the *edge list* for a *directed graph*"
   ]
  },
  {
   "cell_type": "code",
   "execution_count": 16,
   "metadata": {},
   "outputs": [],
   "source": [
    "def adjacency_map_from_edge_list_directed(edges: list[list[int]]) -> defaultdict[set]:\n",
    "    \"\"\"\n",
    "        This function builds the directed graph's adjacency map from\n",
    "        the list of its edges (i.e., pairs of adjacent vertices).\n",
    "    \"\"\"\n",
    "    G = defaultdict(set)   # automatic initialization of adjacent vertex set\n",
    "    for u,v in edges:      # unpacking of inner list into a pair of vertices\n",
    "        G[u].add(v)        # storing directed edge data (i.e., edge from u to v)\n",
    "    return G"
   ]
  },
  {
   "cell_type": "code",
   "execution_count": 27,
   "metadata": {},
   "outputs": [
    {
     "name": "stdout",
     "output_type": "stream",
     "text": [
      "Edge list     : [[0, 1], [0, 2], [3, 5], [5, 4], [4, 3]]\n",
      "Adjacency map : 0 -> {1, 2}   3 -> {5}   5 -> {4}   4 -> {3}  "
     ]
    }
   ],
   "source": [
    "edges_directed   = [[0,1],[0,2],[3,5],[5,4],[4,3]]\n",
    "adj_map_directed = adjacency_map_from_edge_list_directed(edges_directed)\n",
    "\n",
    "print(f\"Edge list     : {edges_directed}\")\n",
    "print(f\"Adjacency map :\", end=\"\")\n",
    "for vx, vs in adj_map_directed.items() : print(f\" {vx} -> {vs}\", end=\"  \")"
   ]
  },
  {
   "cell_type": "code",
   "execution_count": null,
   "metadata": {},
   "outputs": [],
   "source": []
  }
 ],
 "metadata": {
  "kernelspec": {
   "display_name": "base",
   "language": "python",
   "name": "python3"
  },
  "language_info": {
   "codemirror_mode": {
    "name": "ipython",
    "version": 3
   },
   "file_extension": ".py",
   "mimetype": "text/x-python",
   "name": "python",
   "nbconvert_exporter": "python",
   "pygments_lexer": "ipython3",
   "version": "3.10.9"
  },
  "orig_nbformat": 4
 },
 "nbformat": 4,
 "nbformat_minor": 2
}
