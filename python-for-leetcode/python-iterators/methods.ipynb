{
 "cells": [
  {
   "cell_type": "markdown",
   "metadata": {},
   "source": [
    "# Python for LeetCode: Iterators."
   ]
  },
  {
   "cell_type": "code",
   "execution_count": 13,
   "metadata": {},
   "outputs": [],
   "source": [
    "#"
   ]
  },
  {
   "cell_type": "markdown",
   "metadata": {},
   "source": [
    "## Using *yield* keyword"
   ]
  },
  {
   "cell_type": "markdown",
   "metadata": {
    "tags": []
   },
   "source": [
    "### Iterating over the diagonals of a matrix\n",
    "- ###### 1111. XXX"
   ]
  },
  {
   "cell_type": "code",
   "execution_count": 24,
   "metadata": {},
   "outputs": [],
   "source": [
    "def diag_indices(D: int, R: int, C: int) -> tuple[int,int]:\n",
    "    \"\"\"\n",
    "        This generator function yields coordinates of cells on \n",
    "        the diagonal D of a matrix with R rows and C cols.\n",
    "    \"\"\"\n",
    "    if D >= 0 : i0, j0, k0 = 0,  D, min(R, C-D)   # determine starting cell\n",
    "    else      : i0, j0, k0 = -D, 0, min(C, R+D)   # and diagonal's length\n",
    "    for k in range(k0) : yield (i0+k, j0+k)       # iterate over the diagonal"
   ]
  },
  {
   "cell_type": "code",
   "execution_count": 25,
   "metadata": {},
   "outputs": [
    {
     "name": "stdout",
     "output_type": "stream",
     "text": [
      "Diagonal -2:       (2,0) -> -2\n",
      "Diagonal -1:       (1,0) -> -1    (2,1) -> -1\n",
      "Diagonal  0:       (0,0) ->  0    (1,1) ->  0    (2,2) ->  0\n",
      "Diagonal  1:       (0,1) ->  1    (1,2) ->  1    (2,3) ->  1\n",
      "Diagonal  2:       (0,2) ->  2    (1,3) ->  2\n",
      "Diagonal  3:       (0,3) ->  3\n"
     ]
    }
   ],
   "source": [
    "matrix = [[ 0, 1, 2, 3],\n",
    "          [-1, 0, 1, 2],\n",
    "          [-2,-1, 0, 1]]\n",
    "R,C = len(matrix), len(matrix[0])\n",
    "\n",
    "for D in range(-R+1,C):\n",
    "    print(f\"Diagonal {str(D).rjust(2)}:   \", end=\"\")\n",
    "    for i,j in diag_indices(D, R, C):\n",
    "        print(f\"    ({i},{j}) -> {str(matrix[i][j]).rjust(2)}\", end=\"\")\n",
    "    print()"
   ]
  },
  {
   "cell_type": "markdown",
   "metadata": {},
   "source": [
    "### Iterating over side and/or corner adjacent cells\n",
    "- ###### 1111. XXX"
   ]
  },
  {
   "cell_type": "code",
   "execution_count": 26,
   "metadata": {},
   "outputs": [],
   "source": [
    "def adj_cells(i: int, j: int, R: int, C: int, sides=True, corners=False) -> int:\n",
    "    \"\"\"\n",
    "        This generator function yields indices of side and/or corner cells that\n",
    "        are adjacent to the cell (i,j) of a matrix with R rows and C cols.\n",
    "    \"\"\"\n",
    "    coords = [(0,-1),(-1,-1),(-1,0),(-1,1),(0,1),(1,1),(1,0),(1,-1)]\n",
    "    for k,(ii,jj) in enumerate(coords):\n",
    "        if 0 <= i+ii < R and 0 <= j+jj < C:\n",
    "            if (k % 2 == 0 and sides) or (k % 2 == 1 and corners):\n",
    "                yield (i+ii,j+jj)"
   ]
  },
  {
   "cell_type": "code",
   "execution_count": 23,
   "metadata": {},
   "outputs": [
    {
     "name": "stdout",
     "output_type": "stream",
     "text": [
      "Side cells:    (3,2)  (2,3)  (3,4)  (4,3)  \n",
      "Corner cells:  (2,2)  (2,4)  (4,4)  (4,2)  \n",
      "All cells:     (3,2)  (2,2)  (2,3)  (2,4)  (3,4)  (4,4)  (4,3)  (4,2)  \n"
     ]
    }
   ],
   "source": [
    "R, C = 5, 6\n",
    "i, j = 3, 3\n",
    "\n",
    "print(\"Side cells:    \", end=\"\")\n",
    "for ii,jj in adj_cells(i, j, R, C, sides=True, corners=False) : print(f\"({ii},{jj})  \", end=\"\")\n",
    "print()\n",
    "\n",
    "print(\"Corner cells:  \", end=\"\")\n",
    "for ii,jj in adj_cells(i, j, R, C, sides=False, corners=True) : print(f\"({ii},{jj})  \", end=\"\")\n",
    "print()\n",
    "\n",
    "print(\"All cells:     \", end=\"\")\n",
    "for ii,jj in adj_cells(i, j, R, C, sides=True, corners=True)  : print(f\"({ii},{jj})  \", end=\"\")\n",
    "print()"
   ]
  },
  {
   "cell_type": "code",
   "execution_count": null,
   "metadata": {},
   "outputs": [],
   "source": []
  }
 ],
 "metadata": {
  "kernelspec": {
   "display_name": "Python 3 (ipykernel)",
   "language": "python",
   "name": "python3"
  },
  "language_info": {
   "codemirror_mode": {
    "name": "ipython",
    "version": 3
   },
   "file_extension": ".py",
   "mimetype": "text/x-python",
   "name": "python",
   "nbconvert_exporter": "python",
   "pygments_lexer": "ipython3",
   "version": "3.10.9"
  }
 },
 "nbformat": 4,
 "nbformat_minor": 4
}
